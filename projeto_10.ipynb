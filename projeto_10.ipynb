{
 "cells": [
  {
   "cell_type": "code",
   "execution_count": 5,
   "id": "0502184f",
   "metadata": {},
   "outputs": [
    {
     "name": "stdout",
     "output_type": "stream",
     "text": [
      "Seu salário do mês é:R$59.50\n"
     ]
    }
   ],
   "source": [
    "por_hora=float(input(\"Digite quanto você ganha por hora: (ex:25.50)\"))\n",
    "trabalhada=float(input(\"Digite o número de horas trabalhadas no mês:(ex:160)\"))\n",
    "\n",
    "salario=por_hora*trabalhada\n",
    "\n",
    "print(f\"Seu salário do mês é:R${salario:.2f}\")"
   ]
  }
 ],
 "metadata": {
  "kernelspec": {
   "display_name": "Python 3",
   "language": "python",
   "name": "python3"
  },
  "language_info": {
   "codemirror_mode": {
    "name": "ipython",
    "version": 3
   },
   "file_extension": ".py",
   "mimetype": "text/x-python",
   "name": "python",
   "nbconvert_exporter": "python",
   "pygments_lexer": "ipython3",
   "version": "3.13.2"
  }
 },
 "nbformat": 4,
 "nbformat_minor": 5
}
